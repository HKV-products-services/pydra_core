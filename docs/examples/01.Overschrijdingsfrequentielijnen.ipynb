{
 "cells": [
  {
   "cell_type": "markdown",
   "id": "f0d65ef1",
   "metadata": {},
   "source": [
    "---\n",
    "title: \"Overschrijdingsfrequentielijnen\"\n",
    "execute:\n",
    "  eval: false\n",
    "  echo: true\n",
    "  output: true\n",
    "  warning: false\n",
    "  error: false\n",
    "---"
   ]
  },
  {
   "cell_type": "code",
   "execution_count": 1,
   "id": "87fa37bd",
   "metadata": {},
   "outputs": [],
   "source": [
    "import matplotlib.pyplot as plt\n",
    "import numpy as np\n",
    "\n",
    "import pydra_core as pydra"
   ]
  },
  {
   "cell_type": "markdown",
   "id": "96ef24e3",
   "metadata": {},
   "source": [
    "Als demonstratie worden overschrijdingsfrequentielijnen voor de Borselle (Westerschelde/Kust) bepaald. Hieronder definiëren we de locatie van de database."
   ]
  },
  {
   "cell_type": "code",
   "execution_count": 2,
   "id": "61fc0ade",
   "metadata": {},
   "outputs": [],
   "source": [
    "DB_PATH = \"data/WBI2017_Westerschelde_30-4_v03.sqlite\""
   ]
  },
  {
   "cell_type": "markdown",
   "id": "89037ef8",
   "metadata": {},
   "source": [
    "<h3>HRDatabase</h3>\n",
    "\n",
    "Met de HR database maken we een <i>HRDatabase</i> aan. Dit object beheert alle locaties in de HR database en helpt om batch berekeningen te maken."
   ]
  },
  {
   "cell_type": "code",
   "execution_count": 3,
   "id": "1cc0693b",
   "metadata": {},
   "outputs": [],
   "source": [
    "hrdatabase = pydra.HRDatabase(DB_PATH)"
   ]
  },
  {
   "cell_type": "markdown",
   "id": "53a6dfbd",
   "metadata": {},
   "source": [
    "Eén van de functies van een <i>HRDatabase</i> object is het uitlezen van de namen van alle uitvoerpunten."
   ]
  },
  {
   "cell_type": "code",
   "execution_count": 4,
   "id": "3df5cc0d",
   "metadata": {},
   "outputs": [],
   "source": [
    "hrdatabase.get_location_names()"
   ]
  },
  {
   "cell_type": "markdown",
   "id": "44f9b451",
   "metadata": {},
   "source": [
    "<h3>Settings</h3>\n",
    "\n",
    "Met het <i>HRDatabase</i> maken we een <i>Settings</i> object aan voor het HR-uitvoerpunt 'WS_1_30-4_dk_00002'. Het <i>Settings</i> object is voor Pydra hetzelfde als het 'invoer.hyd' bestand voor Hydra-NL is."
   ]
  },
  {
   "cell_type": "code",
   "execution_count": 5,
   "id": "b5ba5e40",
   "metadata": {},
   "outputs": [],
   "source": [
    "settings = hrdatabase.get_settings(\"WS_1_30-4_dk_00002\")"
   ]
  },
  {
   "cell_type": "markdown",
   "id": "ee93eff7",
   "metadata": {},
   "source": [
    "De settings zijn gebaseerd op wat standaard in Hydra-NL (versie 2.8.2) zit. Het is mogelijk om alle settings uit te lezen door het <i>Settings</i> object te printen."
   ]
  },
  {
   "cell_type": "code",
   "execution_count": 6,
   "id": "9232898b",
   "metadata": {},
   "outputs": [],
   "source": [
    "print(settings)"
   ]
  },
  {
   "cell_type": "markdown",
   "id": "a182ee76",
   "metadata": {},
   "source": [
    "Voordat berekeningen worden gedaan is het mogelijk om het <i>Settings</i> object aan te passen:"
   ]
  },
  {
   "cell_type": "code",
   "execution_count": 7,
   "id": "326e5593",
   "metadata": {},
   "outputs": [],
   "source": [
    "print(\"Origineel:\", settings.m_max)\n",
    "settings.m_max = 10.0\n",
    "print(\"Aangepast:\", settings.m_max)"
   ]
  },
  {
   "cell_type": "markdown",
   "id": "f7e46779",
   "metadata": {},
   "source": [
    "<h3>Location</h3>\n",
    "\n",
    "Wanneer je tevreden bent met de settings in het <i>Settings</i> object, kan een <i>Location</i> object worden aangemaakt. Wanneer een location wordt aangemaakt lees Pydra de statistiek in en worden belastingsmodellen gegenereert. De statistiek wordt ingelezen vanuit de <i>data/statistics</i> map in de package. De belastingsmodellen worden geïnitieerd op basis van de eerder gekoppelde HR database in het <i>HRDatabase</i> object."
   ]
  },
  {
   "cell_type": "code",
   "execution_count": 8,
   "id": "11131641",
   "metadata": {},
   "outputs": [],
   "source": [
    "import warnings\n",
    "\n",
    "warnings.filterwarnings(\"ignore\")  # future warnings are annoying\n",
    "location = hrdatabase.create_location(settings)\n",
    "# TODO: deze error beter afvangen:"
   ]
  },
  {
   "cell_type": "markdown",
   "id": "11790eff",
   "metadata": {},
   "source": [
    "Nu het <i>Location</i> object is aangemaakt voor het HR uitvoerpunt 'WS_1_30-4_dk_00002', kan deze gebruikt worden in berekeningen."
   ]
  },
  {
   "cell_type": "markdown",
   "id": "2abfbe2a",
   "metadata": {},
   "source": [
    "<h3>Overschrijdingsfrequentielijn voor één uitvoerpunt</h3>\n",
    "\n",
    "Pydra heeft verschillende rekenmodules (objecten). Hieronder gebruiken we de <i>ExceedanceFrequencyLine</i> module om de overschrijdingsfrequentielijn te berekenen. Voordat we dat kunnen doen moet eerst een rekenobject worden aangemaakt, hieronder <i>fl</i>. Het rekenobject omvat de instellingen voor de berekening, bijvoorbeeld voor welke variabel een frequentielijn moet worden berekend (hieronder waterstand (h)). Daarnaast zijn er nog een aantal optionele opties, zoals of er met modelonzekerheden moet worden gerekend (standaard : True), de stapgrootte van de frequentielijn (standaard : 0.05) en een aangepast bereik van waterstanden voor de frequentielijn (standaard tussen de 1ste en 99de percentiel vanuit de HR database)."
   ]
  },
  {
   "cell_type": "code",
   "execution_count": 9,
   "id": "76105037",
   "metadata": {},
   "outputs": [],
   "source": [
    "fl = pydra.ExceedanceFrequencyLine(\"h\", model_uncertainty=False)"
   ]
  },
  {
   "cell_type": "markdown",
   "id": "26c9de61",
   "metadata": {},
   "source": [
    "Vervolgens kunnen we met het rekenobject <i>fl</i> een overschrijdingsfrequentielijn bepalen voor HR uitvoerpunt 'WS_1_30-4_dk_00002' door de <i>calculate()</i> functie aan te roepen van het rekenobject en het <i>location</i> object als argument mee te geven."
   ]
  },
  {
   "cell_type": "code",
   "execution_count": 10,
   "id": "27fb8421",
   "metadata": {},
   "outputs": [],
   "source": [
    "frequency_line = fl.calculate(location)"
   ]
  },
  {
   "cell_type": "markdown",
   "id": "8bd756b2",
   "metadata": {},
   "source": [
    "Dit geeft een overschrijdingsfrequentielijn <i>frequency_line</i>. Het is een object waarin de berekende gegevens (waterstanden en overschrijdingsfrequenties) worden opgeslagen. Als je het object print, zie je wat er allemaal in zit."
   ]
  },
  {
   "cell_type": "code",
   "execution_count": 11,
   "id": "88d8962e",
   "metadata": {},
   "outputs": [],
   "source": [
    "print(frequency_line)"
   ]
  },
  {
   "cell_type": "markdown",
   "id": "fe601c96",
   "metadata": {},
   "source": [
    "Hieronder is een plot van de berekende overschrijdingsfrequentielijn gegeven."
   ]
  },
  {
   "cell_type": "code",
   "execution_count": 12,
   "id": "f7aa3e71",
   "metadata": {},
   "outputs": [],
   "source": [
    "tt = np.array([10, 30, 100, 300, 1_000, 3_000, 10_000, 30_000, 100_000])\n",
    "\n",
    "plt.figure(figsize=[8, 5])\n",
    "plt.grid()\n",
    "plt.plot(tt, frequency_line.interpolate_exceedance_probability(1 / tt), label=\"Pydra\")\n",
    "plt.legend(loc=\"upper left\")\n",
    "plt.title(\"Overschrijdingsfrequentielijn waterstand (WS_1_30-4_dk_00002)\")\n",
    "plt.xscale(\"log\")\n",
    "plt.xticks([10, 100, 1_000, 10_000, 100_000])\n",
    "plt.xlabel(\"Terugkeertijd [jaar]\")\n",
    "plt.xlim(10, 100_000)\n",
    "plt.ylabel(\"Waterstand [NAP+m]\")\n",
    "plt.ylim(3.5, 7.0)\n",
    "plt.show()"
   ]
  },
  {
   "cell_type": "markdown",
   "id": "e0f4c4ee",
   "metadata": {},
   "source": [
    "We hebben dezelfde berekening gemaakt met Hydra-NL, wat de onderstaande vergelijking geeft."
   ]
  },
  {
   "cell_type": "code",
   "execution_count": 13,
   "id": "7abe1bb0",
   "metadata": {},
   "outputs": [],
   "source": [
    "hydranl_h = [3.998, 4.28, 4.592, 4.879, 5.198, 5.494, 5.828, 6.141, 6.497]\n",
    "\n",
    "plt.figure(figsize=[8, 5])\n",
    "plt.grid()\n",
    "plt.plot(tt, frequency_line.interpolate_exceedance_probability(1 / tt), label=\"Pydra\")\n",
    "plt.plot(tt, hydranl_h, \":\", label=\"Hydra-NL\")\n",
    "plt.legend(loc=\"upper left\")\n",
    "plt.title(\"Overschrijdingsfrequentielijn waterstand (WS_1_30-4_dk_00002)\")\n",
    "plt.xscale(\"log\")\n",
    "plt.xticks([1, 10, 100, 1_000, 10_000, 100_000, 1_000_000])\n",
    "plt.xlabel(\"Terugkeertijd [jaar]\")\n",
    "plt.xlim(10, 100_000)\n",
    "plt.ylabel(\"Waterstand [NAP+m]\")\n",
    "plt.ylim(3.5, 7.0)\n",
    "plt.show()"
   ]
  },
  {
   "cell_type": "markdown",
   "id": "e84ebad4",
   "metadata": {},
   "source": [
    "<h3>Overschrijdingsfrequentielijn voor een heel traject</h3>\n",
    "\n",
    "Het is ook mogelijk om overschrijdingsfrequentielijnen voor een heel traject te genereren. Laten we weer een rekenobject <i>fl</i> aanmaken. Merk op dat we  ten opzichte van hierboven dit maal <i>model_uncertainty = False</i> hebben toegevoegd. Dit betekent dat we nu <u>zonder</u> modelonzekerheden rekenen."
   ]
  },
  {
   "cell_type": "code",
   "execution_count": 14,
   "id": "74345dbc",
   "metadata": {},
   "outputs": [],
   "source": [
    "fl = pydra.ExceedanceFrequencyLine(\"hs\", model_uncertainty=False)"
   ]
  },
  {
   "cell_type": "markdown",
   "id": "35581900",
   "metadata": {},
   "source": [
    "Door het <i>HRDatabase</i> object '<i>hrdatabase</i>' mee te geven als argument in de <i>calculate()</i> functie, bepaald Pydra de overschrijdingsfrequentielijn voor <u>alle</u> uitvoerpunten in de HR database. Voor locaties die al zijn gedefinieerd, zoals 'WS_1_30-4_dk_00002', wordt het eerder gedefinieerde <i>Location</i> object gebruikt. Voor uitvoerpunten die nog niet zijn gedefinieerd creëert Pydra automatisch een <i>Location</i> object met de standaardwaarden voor het water systeem (net zoals Hydra-NL een 'invoer.hyd' aanmaakt in de beoordelingsmodus).\n",
    "\n",
    "Merk op dat dus in dit geval voor uitvoerpunt 'WS_1_30-4_dk_00002' met een <i>mmax</i> van NAP+10,0m wordt gerekend omdat we die eerder hebben aangepast. Voor de overige locaties wordt met de standaard NAP+9,0m gerekend."
   ]
  },
  {
   "cell_type": "code",
   "execution_count": 15,
   "id": "bc5a0a29",
   "metadata": {},
   "outputs": [],
   "source": [
    "freq_lines = fl.calculate(hrdatabase)\n",
    "# TODO: deze errors beter afvangen:"
   ]
  },
  {
   "cell_type": "markdown",
   "id": "1630de75",
   "metadata": {},
   "source": [
    "Omdat we nu een heel traject doorrekenen, zal <i>calculate()</i> niet één frequentielijn returnen. In plaats daarvan wordt een dictionary gereturnd met als key de naam van het uitvoerpunt en als value het <i>FrequencyLine</i> resultaat object."
   ]
  },
  {
   "cell_type": "code",
   "execution_count": 16,
   "id": "4e1b4b04",
   "metadata": {},
   "outputs": [],
   "source": [
    "print(freq_lines[\"WS_1_30-4_dk_00006\"])"
   ]
  },
  {
   "cell_type": "markdown",
   "id": "09d69a52",
   "metadata": {},
   "source": [
    "Een overzicht van alle resultaten:"
   ]
  },
  {
   "cell_type": "code",
   "execution_count": 17,
   "id": "8e68bf73",
   "metadata": {},
   "outputs": [],
   "source": [
    "plt.figure(figsize=[8, 5])\n",
    "plt.grid()\n",
    "\n",
    "for _loc in freq_lines:\n",
    "    plt.plot(\n",
    "        1 / freq_lines[_loc].exceedance_frequency, freq_lines[_loc].level, label=_loc\n",
    "    )\n",
    "\n",
    "plt.legend(loc=\"upper left\")\n",
    "plt.title(\n",
    "    \"Overschrijdingsfrequentielijn significante golfhoogte zonder modelonzekerheid\"\n",
    ")\n",
    "plt.xscale(\"log\")\n",
    "plt.xticks([1, 10, 100, 1_000, 10_000, 100_000])\n",
    "plt.xlabel(\"Terugkeertijd [jaar]\")\n",
    "plt.xlim(1, 100_000)\n",
    "plt.ylabel(\"Significante golfhoogte [m]\")\n",
    "plt.ylim(0, None)\n",
    "plt.show()"
   ]
  },
  {
   "cell_type": "code",
   "execution_count": 18,
   "id": "a9aa379a",
   "metadata": {},
   "outputs": [],
   "source": []
  }
 ],
 "metadata": {
  "kernelspec": {
   "display_name": "Python 3 (ipykernel)",
   "language": "python",
   "name": "python3"
  },
  "language_info": {
   "codemirror_mode": {
    "name": "ipython",
    "version": 3
   },
   "file_extension": ".py",
   "mimetype": "text/x-python",
   "name": "python",
   "nbconvert_exporter": "python",
   "pygments_lexer": "ipython3",
   "version": "3.13.1"
  }
 },
 "nbformat": 4,
 "nbformat_minor": 5
}
