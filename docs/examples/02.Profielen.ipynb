{
 "cells": [
  {
   "cell_type": "markdown",
   "id": "bd07a6c3",
   "metadata": {},
   "source": [
    "---\n",
    "title: \"Profielen\"\n",
    "execute:\n",
    "  warning: false\n",
    "  error: false\n",
    "---"
   ]
  },
  {
   "cell_type": "code",
   "execution_count": 1,
   "id": "5cc2f2b1",
   "metadata": {},
   "outputs": [],
   "source": [
    "import matplotlib.pyplot as plt\n",
    "import numpy as np\n",
    "\n",
    "from copy import deepcopy\n",
    "import pydra_core as pydra"
   ]
  },
  {
   "cell_type": "markdown",
   "id": "28f6dabc",
   "metadata": {},
   "source": [
    "In deze versie van Pydra is het profiel losgekoppeld van de belasting en statistiek. Hierdoor is het mogelijk om alleen een profiel te maken en overslag en oploop te berekenen zonder het koppelen van belasting en statistiek.\n",
    "\n",
    "Er zijn drie manieren om een profiel aan te maken:\n",
    "<lu>\n",
    "    <li>Handmatig</li>\n",
    "    <li>Import een .prfl</li>\n",
    "    <li>Import een schematisatie vanuit de GEBU-GEKB tool</li>\n",
    "</lu>\n",
    "\n",
    "<h3>Profiel</h3>\n",
    "\n",
    "Het <i>Profile</i> is de basis voor elk profiel. Als argument moet een naam voor het profiel worden opgegeven."
   ]
  },
  {
   "cell_type": "code",
   "execution_count": 2,
   "id": "81781d6b",
   "metadata": {},
   "outputs": [],
   "source": [
    "profiel = pydra.Profile(\"test_profiel\")"
   ]
  },
  {
   "cell_type": "markdown",
   "id": "e08a19c4",
   "metadata": {},
   "source": [
    "<h3>Handmatig</h3>\n",
    "\n",
    "Het <i>Profile</i> object heeft allemaal functies (startend met <i>set_...()</i>) om het profiel te veranderen. Er zijn globaal drie dingen die aan een profiel kan veranderen:\n",
    "<lu>\n",
    "    <li>Dijkgeometrie</li>\n",
    "    <li>Voorland</li>\n",
    "    <li>Voorliggende keringen</li>\n",
    "</lu>"
   ]
  },
  {
   "cell_type": "markdown",
   "id": "247e1438",
   "metadata": {},
   "source": [
    "<b>Dijkgeometrie</b><br>\n",
    "Voordat een profiel werkt moet een kruinhoogte, dijkorientatie en geometrie worden gedefinieerd. Een voorbeeld is gegeven in de onderstaande code."
   ]
  },
  {
   "cell_type": "code",
   "execution_count": 3,
   "id": "0aee0e33",
   "metadata": {},
   "outputs": [],
   "source": [
    "# Kruinhoogte\n",
    "profiel.set_dike_crest_level(8.0)\n",
    "\n",
    "# Dijkorientatie\n",
    "profiel.set_dike_orientation(90)\n",
    "\n",
    "# Dijkgeometrie\n",
    "profiel.set_dike_geometry([-6, 30], [-2, 10], [1.0, 1.0])"
   ]
  },
  {
   "cell_type": "markdown",
   "id": "56aa8bc8",
   "metadata": {},
   "source": [
    "De <i>set_dike_geometry(x, y, r)</i> heeft drie argumenten, de x-coordinaten, de y-coordinaten, en de ruwheden. Eventueel kunnen de ruwheden worden weggelaten, er wordt dan standaard met een ruwheid van 1.0 gerekend."
   ]
  },
  {
   "cell_type": "code",
   "execution_count": 4,
   "id": "c9c24238",
   "metadata": {},
   "outputs": [],
   "source": [
    "# Dijkgeometrie\n",
    "profiel.set_dike_geometry([-6, 30], [-2, 10])"
   ]
  },
  {
   "cell_type": "markdown",
   "id": "ccce7578",
   "metadata": {},
   "source": [
    "Met de <i>draw_profile()</i> functie kan een plot van de doorsnede worden weergegeven."
   ]
  },
  {
   "cell_type": "code",
   "execution_count": 5,
   "id": "35e903a7",
   "metadata": {},
   "outputs": [],
   "source": [
    "profiel.draw_profile()"
   ]
  },
  {
   "cell_type": "markdown",
   "id": "4156c91d",
   "metadata": {},
   "source": [
    "<b>Voorland</b><br>\n",
    "Een voorland kan worden toegevoegd met <i>set_foreland_geometry(x, y)</i> en heeft twee argumenten, de x-coordinaten en de y-coordinaten. Een profiel wordt altijd zo geschematiseerd dat de dijkteen op x = 0 ligt. Het voorland ligt altijd in het negatieve x-domein en de dijkgeometrie in het positieve x-domein."
   ]
  },
  {
   "cell_type": "code",
   "execution_count": 6,
   "id": "a45dc1c9",
   "metadata": {},
   "outputs": [],
   "source": [
    "# Voorland\n",
    "profiel.set_foreland_geometry([-100, -70], [-3, -2])"
   ]
  },
  {
   "cell_type": "markdown",
   "id": "66dbb7cf",
   "metadata": {},
   "source": [
    "Merk op dat ondanks dat we hierboven het voorland hebben gedefinieerd lopend van -100 tot -70, pydra automatisch zorgt dat het voorland aansluit op de teen van de dijk (x = 0). Het voorland wordt dus gecorrigeerd zodat deze loopt van -30 naar 0. Zie de figuur hieronder."
   ]
  },
  {
   "cell_type": "code",
   "execution_count": 7,
   "id": "a6768ddf",
   "metadata": {},
   "outputs": [],
   "source": [
    "profiel.draw_profile()"
   ]
  },
  {
   "cell_type": "markdown",
   "id": "11b0e53d",
   "metadata": {},
   "source": [
    "<b>Voorliggende kering</b><br>\n",
    "Een voorliggende kering, zoals een golfbreker kan worden toegevoegd met de functie <i>set_breakwater(breakwater, hoogte)</i>. De functie heeft twee argumenten, het type Breakwater (gedefinieerd via Enum) en de hoogte van de Breakwater."
   ]
  },
  {
   "cell_type": "code",
   "execution_count": 8,
   "id": "547a41f5",
   "metadata": {},
   "outputs": [],
   "source": [
    "# Importeer de Breakwater Enum\n",
    "from pydra_core import Breakwater\n",
    "\n",
    "\"\"\"\n",
    "Keuzes:\n",
    "Breakwater.NO_BREAKWATER\n",
    "Breakwater.CAISSON\n",
    "Breakwater.VERTICAL_WALL\n",
    "Breakwater.RUBBLE_MOUND\n",
    "\"\"\"\n",
    "\n",
    "# Hier wordt een RubbleMound als Breakwater ingesteld met een hoogte van NAP+3,0m\n",
    "profiel.set_breakwater(Breakwater.RUBBLE_MOUND, 3.0)"
   ]
  },
  {
   "cell_type": "markdown",
   "id": "407f2707",
   "metadata": {},
   "source": [
    "Dit geeft de volgende doorsnede."
   ]
  },
  {
   "cell_type": "code",
   "execution_count": 9,
   "id": "16d55f50",
   "metadata": {},
   "outputs": [],
   "source": [
    "profiel.draw_profile()"
   ]
  },
  {
   "cell_type": "markdown",
   "id": "76ad11c4",
   "metadata": {},
   "source": [
    "<b>Verwijderen van een voorliggende kering/voorland</b><br>\n",
    "Je kan een voorliggende kering/voorland verwijderen met de functies <i>remove_breakwater()</i> en <i>remove_foreland()</i>."
   ]
  },
  {
   "cell_type": "code",
   "execution_count": 10,
   "id": "5957f33b",
   "metadata": {},
   "outputs": [],
   "source": [
    "# Verwijder voorland\n",
    "profiel.remove_breakwater()\n",
    "\n",
    "# Verwijder voorliggende kering\n",
    "profiel.remove_foreland()"
   ]
  },
  {
   "cell_type": "markdown",
   "id": "fa4b164d",
   "metadata": {},
   "source": [
    "Nu zonder voorland"
   ]
  },
  {
   "cell_type": "code",
   "execution_count": 11,
   "id": "2d0d2d0c",
   "metadata": {},
   "outputs": [],
   "source": [
    "profiel.draw_profile()"
   ]
  },
  {
   "cell_type": "markdown",
   "id": "69464506",
   "metadata": {},
   "source": [
    "<h3>Importeer een .prfl</h3>\n",
    "\n",
    "In plaats van handmatig een profiel te definiëren is het ook mogelijk om een .prfl te importeren. Hiervoor kan de classmethod <i>Profile.from_prfl(prfl_path)</i> worden gebruikt. Door het optionele argument <i>name</i> te definiëren kan een naam aan het profielbestand worden gegeven."
   ]
  },
  {
   "cell_type": "code",
   "execution_count": 12,
   "id": "d8d36801",
   "metadata": {},
   "outputs": [],
   "source": [
    "PRFL_PATH = \"data/profielformaat.prfl\"\n",
    "\n",
    "profiel_prfl = pydra.Profile.from_prfl(\n",
    "    PRFL_PATH, profile_name=\"Profiel vanuit een prfl\"\n",
    ")"
   ]
  },
  {
   "cell_type": "markdown",
   "id": "2b8dd8b4",
   "metadata": {},
   "source": [
    "Dat geeft de volgende doorsnede:"
   ]
  },
  {
   "cell_type": "code",
   "execution_count": 13,
   "id": "016bde6d",
   "metadata": {},
   "outputs": [],
   "source": [
    "profiel_prfl.draw_profile()"
   ]
  },
  {
   "cell_type": "markdown",
   "id": "02eeee6c",
   "metadata": {},
   "source": [
    "<h3>Import een schematisatie vanuit de GEBU-GEKB tool</h3>\n",
    "\n",
    "Het is ook mogelijk om een profiel te importeren uit de <i>1.sql</i> van de GEBU-GEKB plugin voor Hydra-Ring. Hiervoor kan de classmethod Profile.from_gebugekb_tool(sql_path) worden gebruikt. De opzet van de classmethod/functie is hetzelfde als voor het importeren van een .prfl."
   ]
  },
  {
   "cell_type": "code",
   "execution_count": 14,
   "id": "7f130318",
   "metadata": {},
   "outputs": [],
   "source": [
    "SQL_PATH = \"data/1.sql\"\n",
    "\n",
    "profiel_sql = pydra.Profile.from_gebugekb_tool(\n",
    "    SQL_PATH, profile_name=\"Profiel vanuit een 1.sql\"\n",
    ")"
   ]
  },
  {
   "cell_type": "markdown",
   "id": "41df086f",
   "metadata": {},
   "source": [
    "Dat geeft de volgende doorsnede:"
   ]
  },
  {
   "cell_type": "code",
   "execution_count": 15,
   "id": "4b43429a",
   "metadata": {},
   "outputs": [],
   "source": [
    "profiel_sql.draw_profile()"
   ]
  },
  {
   "cell_type": "markdown",
   "id": "7271e850",
   "metadata": {},
   "source": [
    "<h3>Exporteer het Profile object naar een .prfl</h3>\n",
    "\n",
    "Het is mogelijk om een <i>Profile</i> object te exporteren naar een .prfl. Handig als je bijvoorbeeld schematisaties uit de GEBUGEKB-tool wilt omzetten naar een .prfl, of veel profielen wilt genereren met een loop.\n",
    "\n",
    "Je kan een profiel exporteren met de functie <i>to_prfl(export_path)</i>. Het is met optionele argumenten mogelijk om een ID (toevoegen van argument <i>id = \"voorbeeld_id\"</i>) of een memo (toevoegen van argument <i>memo = \"een memo\"</i>) toe te voegen. Hieronder exporteren we de profielen die we eerder hebben geschematiseerd naar de RO1099 map."
   ]
  },
  {
   "cell_type": "code",
   "execution_count": 16,
   "id": "2aba7262",
   "metadata": {},
   "outputs": [],
   "source": [
    "# Zonder ID of memo\n",
    "profiel.to_prfl(\"data/export_profiel_1.prfl\")\n",
    "\n",
    "# Met memo\n",
    "profiel_prfl.to_prfl(\"data/export_profiel_2.prfl\", memo=\"mooi profiel\")\n",
    "\n",
    "# Met ID en memo\n",
    "profiel_sql.to_prfl(\n",
    "    \"data/export_profiel_3.prfl\", id=\"test\", memo=\"profiel uit de gebu-gekb tool\"\n",
    ")"
   ]
  },
  {
   "cell_type": "markdown",
   "id": "b994ad28",
   "metadata": {},
   "source": [
    "<h3>Golftransitie over voorland</h3>\n",
    "\n",
    "Het is mogelijk om met het Profile object de golftransitie over het voorland te bepalen. In deze demonstratie bepalen we het effect van het voorland voor het volgende profiel:"
   ]
  },
  {
   "cell_type": "code",
   "execution_count": 17,
   "id": "0b5f08cb",
   "metadata": {},
   "outputs": [],
   "source": [
    "profiel_prfl.draw_profile()"
   ]
  },
  {
   "cell_type": "markdown",
   "id": "2cc109c2",
   "metadata": {},
   "source": [
    "De functie <i>transform_wave_conditions(h, hs, tspec, wdir)</i> kan gebruikt worden om de getransformeerde golfcondities te bepalen. Met het optionele argument <i>tp_tspec</i> wordt de spectrale golfperiode omgerekend naar de piekperiode (welke wordt gebruikt in de DaF module) en vervolgens weer teruggerekend naar de spectrale golfperiode. Standaard is <i>tp_tspec</i> gelijk aan 1.1."
   ]
  },
  {
   "cell_type": "code",
   "execution_count": 18,
   "id": "01641162",
   "metadata": {},
   "outputs": [],
   "source": [
    "# HR\n",
    "h = 6.0\n",
    "hs = 2.0\n",
    "tspec = 5.0\n",
    "wdir = 84\n",
    "\n",
    "# De invoer kunnen floats of ints zijn\n",
    "_h, _hs, _tspec, _wdir = profiel_prfl.transform_wave_conditions(h, hs, tspec, wdir)\n",
    "\n",
    "print(\"h\", h, \"->\", _h)\n",
    "print(\"hs\", hs, \"->\", _hs)\n",
    "print(\"tspec\", tspec, \"->\", _tspec)\n",
    "print(\"wdir\", wdir, \"->\", _wdir)"
   ]
  },
  {
   "cell_type": "markdown",
   "id": "50f2190f",
   "metadata": {},
   "source": [
    "Je kan ook arrays gebruiken. Merk op dat we hieronder alleen de waterstand <i>h</i> en significante golfhoogte <i>Hs</i> als arrays hebben gedefinieerd. Wanneer je een deel van de input parameters (h, hs, tspec, wdir) als array definieerd en een deel niet, vult pydra deze automatisch aan. In het onderstaande geval worden alle combinaties met een tspec van 5.0 gerekend en een wdir van 84."
   ]
  },
  {
   "cell_type": "code",
   "execution_count": 19,
   "id": "30076276",
   "metadata": {},
   "outputs": [],
   "source": [
    "# HR\n",
    "h = [3.0, 4.0, 5.0, 6.0]\n",
    "hs = [2.0, 2.2, 2.4, 2.6]\n",
    "tspec = 5.0\n",
    "wdir = 84\n",
    "\n",
    "# De invoer kunnen floats of ints zijn\n",
    "_h, _hs, _tspec, _wdir = profiel_prfl.transform_wave_conditions(h, hs, tspec, wdir)\n",
    "\n",
    "print(\"h\", h, \"->\", _h)\n",
    "print(\"hs\", hs, \"->\", _hs)\n",
    "print(\"tspec\", tspec, \"->\", _tspec)\n",
    "print(\"wdir\", wdir, \"->\", _wdir)"
   ]
  },
  {
   "cell_type": "markdown",
   "id": "8889fd39",
   "metadata": {},
   "source": [
    "<h3>Golfoverslag en overloop</h3>\n",
    "\n",
    "Met een <i>Profile</i> object kan golfoverslag en overloop bepalen met de functie <i>calculate_overtopping(h, hs, tspec, wdir)</i>. Net zoals bij de golftransformatie over het voorland kan de invoer bestaan uit floats, ints, arrays of een combinatie. Hieronder wordt deze functie gedemonstreerd voor dezelfde doorsnede waarbij de golftransformatie over het voorland is gedemonstreerd (zie doorsnede hierboven)."
   ]
  },
  {
   "cell_type": "code",
   "execution_count": 20,
   "id": "8c007dd8",
   "metadata": {},
   "outputs": [],
   "source": [
    "# HR\n",
    "h = 4.0\n",
    "hs = 2.0\n",
    "tspec = 5.0\n",
    "wdir = 84\n",
    "\n",
    "# Overslag\n",
    "qov = profiel_prfl.calculate_overtopping(h, hs, tspec, wdir)\n",
    "print(\"qov =\", qov, \"m3/m/s\")"
   ]
  },
  {
   "cell_type": "markdown",
   "id": "7d6165f5",
   "metadata": {},
   "source": [
    "Door bijvoorbeeld de waterstand als array te definieren kan heel eenvoudig het overslagdebiet geplot worden tegen de waterstand."
   ]
  },
  {
   "cell_type": "code",
   "execution_count": 21,
   "id": "57d42811",
   "metadata": {},
   "outputs": [],
   "source": [
    "# Bepaal een range aan waterstanden\n",
    "h = np.arange(0.0, 6.0, 0.1)\n",
    "hs = 1.0\n",
    "tspec = 4.0\n",
    "wdir = 84\n",
    "\n",
    "# Overslag\n",
    "qov = profiel_prfl.calculate_overtopping(h, hs, tspec, wdir)\n",
    "\n",
    "# Plot\n",
    "plt.figure()\n",
    "plt.plot(h, qov, label=\"Overslag\")\n",
    "plt.axvline(5.0, ls=\":\", label=\"Kruinhoogte\")\n",
    "plt.title(\"Overslagdebiet voor verschillende waterstanden\")\n",
    "plt.xlabel(\"Waterstand [NAP+m]\")\n",
    "plt.xlim(0, None)\n",
    "plt.ylabel(\"Overslagdebiet [m3/m/s]\")\n",
    "plt.ylim(0, None)\n",
    "plt.legend(loc=\"best\")\n",
    "plt.show()"
   ]
  },
  {
   "cell_type": "markdown",
   "id": "db9bfba4",
   "metadata": {},
   "source": [
    "<h3>Oploophoogte</h3>\n",
    "\n",
    "Hetzelfde is ook mogelijk voor de 2% oploophoogte. Hiervoor kan de functie <i>calculate_runup(h, hs, tspec, wdir)</i> worden gebruikt."
   ]
  },
  {
   "cell_type": "code",
   "execution_count": 22,
   "id": "709edbc9",
   "metadata": {},
   "outputs": [],
   "source": [
    "# HR\n",
    "h = 4.0\n",
    "hs = 2.0\n",
    "tspec = 5.0\n",
    "wdir = 84\n",
    "\n",
    "# Oploop\n",
    "z2p = profiel_prfl.calculate_runup(h, hs, tspec, wdir)\n",
    "print(\"z2% =\", z2p, \"NAP+m\")"
   ]
  },
  {
   "cell_type": "markdown",
   "id": "f66f1b96",
   "metadata": {},
   "source": [
    "Voorbeeld voor meerdere golfhoogtes bij eenzelfde waterstand, spectrale golfperiode en hoek van golfinval."
   ]
  },
  {
   "cell_type": "code",
   "execution_count": 23,
   "id": "b44dfd82",
   "metadata": {},
   "outputs": [],
   "source": [
    "# Bepaal een range aan golfhoogtes\n",
    "h = 4.0\n",
    "hs = np.arange(0.0, 3.0, 0.1)\n",
    "tspec = 5.0\n",
    "wdir = 84\n",
    "\n",
    "# Oploop\n",
    "z2p = profiel_prfl.calculate_runup(h, hs, tspec, wdir)\n",
    "\n",
    "# Plot\n",
    "plt.figure()\n",
    "plt.plot(hs, z2p, label=\"Oploophoogte\")\n",
    "plt.title(\"Oploophoogte voor verschillende golfhoogtes\")\n",
    "plt.xlabel(\"Significante golfhoogte [m]\")\n",
    "plt.xlim(0, None)\n",
    "plt.ylabel(\"Oploophoogte [NAP+m]\")\n",
    "plt.ylim(4, None)\n",
    "plt.legend(loc=\"best\")\n",
    "plt.show()"
   ]
  },
  {
   "cell_type": "markdown",
   "id": "02260ccb",
   "metadata": {},
   "source": [
    "<h3>Kruinhoogte bepalen</h3>\n",
    "\n",
    "Als laatste is het mogelijk om de kruinhoogte te bepalen gegeven een overslagdebiet. Dit kan met de functie <i>calculate_crest_level(q_critical, h, hs, tspec, wdir)</i>."
   ]
  },
  {
   "cell_type": "code",
   "execution_count": 24,
   "id": "6430e6a0",
   "metadata": {},
   "outputs": [],
   "source": [
    "# HR\n",
    "q = 0.01\n",
    "h = 4.0\n",
    "hs = 2.0\n",
    "tspec = 5.0\n",
    "wdir = 84\n",
    "\n",
    "# Kruinhoogte voor 10 l/m/s\n",
    "hbn = profiel_prfl.calculate_crest_level(q, h, hs, tspec, wdir)\n",
    "print(\"Benodigde kruinhoogte =\", hbn, \"NAP+m\")"
   ]
  },
  {
   "cell_type": "markdown",
   "id": "63f05633",
   "metadata": {},
   "source": [
    "Met de overslag functie kunnen we makkelijk controleren of deze kruinhoogte klopt"
   ]
  },
  {
   "cell_type": "code",
   "execution_count": 25,
   "id": "6c7f96ea",
   "metadata": {},
   "outputs": [],
   "source": [
    "# HR\n",
    "q = 0.01\n",
    "h = 4.0\n",
    "hs = 2.0\n",
    "tspec = 5.0\n",
    "wdir = 84\n",
    "\n",
    "# Check\n",
    "test_prfl = deepcopy(profiel_prfl)\n",
    "test_prfl.set_dike_crest_level(hbn)\n",
    "qov = test_prfl.calculate_overtopping(h, hs, tspec, wdir)\n",
    "\n",
    "print(\"Check met aangepaste kruinhoogte:\", round(qov, 6), \"m3/m/s\")"
   ]
  },
  {
   "cell_type": "markdown",
   "id": "1522963f",
   "metadata": {},
   "source": [
    "Als we dan toch bezig zijn, kunnen we een mooi grafiekje voor de kruinhoogte bepaling niet achterwege laten..."
   ]
  },
  {
   "cell_type": "code",
   "execution_count": 26,
   "id": "efddda1d",
   "metadata": {},
   "outputs": [],
   "source": [
    "# Bepaal een range aan overslagdebieten\n",
    "q = np.arange(0.001, 0.1, 0.001)\n",
    "h = 4.0\n",
    "hs = 2.0\n",
    "tspec = 5.0\n",
    "wdir = 84\n",
    "\n",
    "# Oploop\n",
    "hbn = profiel_prfl.calculate_crest_level(q, h, hs, tspec, wdir)\n",
    "\n",
    "# Plot\n",
    "plt.figure()\n",
    "plt.plot(q, hbn, label=\"Kruinhoogte\")\n",
    "plt.title(\"Kruinhoogte voor verschillende overslagdebieten\")\n",
    "plt.xlabel(\"Overslagdebiet [m3/m/s]\")\n",
    "plt.xlim(0, None)\n",
    "plt.ylabel(\"Kruinhoogte [NAP+m]\")\n",
    "plt.ylim(0, None)\n",
    "plt.legend(loc=\"best\")\n",
    "plt.show()"
   ]
  }
 ],
 "metadata": {
  "kernelspec": {
   "display_name": "Python 3 (ipykernel)",
   "language": "python",
   "name": "python3"
  },
  "language_info": {
   "codemirror_mode": {
    "name": "ipython",
    "version": 3
   },
   "file_extension": ".py",
   "mimetype": "text/x-python",
   "name": "python",
   "nbconvert_exporter": "python",
   "pygments_lexer": "ipython3",
   "version": "3.12.7"
  }
 },
 "nbformat": 4,
 "nbformat_minor": 5
}
