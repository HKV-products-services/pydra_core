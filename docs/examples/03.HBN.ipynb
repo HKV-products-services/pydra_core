{
 "cells": [
  {
   "cell_type": "markdown",
   "id": "d15694ab",
   "metadata": {},
   "source": [
    "---\n",
    "title: \"Hydraulisch Belastingsniveau (HBN)\"\n",
    "execute:\n",
    "  warning: false\n",
    "  error: false\n",
    "---"
   ]
  },
  {
   "cell_type": "code",
   "execution_count": 1,
   "id": "50e25d1f",
   "metadata": {},
   "outputs": [],
   "source": [
    "import matplotlib.pyplot as plt\n",
    "import numpy as np\n",
    "\n",
    "import pydra_core as pydra"
   ]
  },
  {
   "cell_type": "markdown",
   "id": "ebe9bac3",
   "metadata": {},
   "source": [
    "<h3>Opzet profiel en uitvoerpunt</h3>\n",
    "\n",
    "Als demonstratie worden HBNs voor de Borselle (Westerschelde/Kust) bepaald voor uitvoerpunt 'WS_1_30-4_dk_00002'. Voor het traject geldt een norm van 1/1.000.000 per jaar vanwege de kerncentrale Borselle.\n",
    "\n",
    "Eerst maken we een nieuwe profiel aan. We nemen een 1 op 3 talud met de kruinhoogte op NAP+10,75m en een dijknormaal van 225 graden. Hieronder is de code weergegeven. Voor meer informatie over het schematiseren van profielen zie notebook '02. Profielen.ipynb'."
   ]
  },
  {
   "cell_type": "code",
   "execution_count": 2,
   "id": "2af80f0c",
   "metadata": {},
   "outputs": [],
   "source": [
    "# Maak profiel\n",
    "profile = pydra.Profile(\"Borselle\")\n",
    "profile.set_dike_crest_level(10.75)\n",
    "profile.set_dike_orientation(225)\n",
    "profile.set_dike_geometry([-30, 30], [-10, 10])\n",
    "\n",
    "# Controle plot\n",
    "profile.draw_profile()"
   ]
  },
  {
   "cell_type": "markdown",
   "id": "2d2def58",
   "metadata": {},
   "source": [
    "Nu we het profiel geschematiseerd hebben, gaan we het uitvoerpunt initialiseren. Hieronder is de code weergegeven met enkele comments. Voor een uitgebreidere beschrijving van het opzetten van een uitvoerpunt zie notebook '01. Overschrijdingsfrequentielijnen.ipynb'."
   ]
  },
  {
   "cell_type": "code",
   "execution_count": 3,
   "id": "90b5e23f",
   "metadata": {},
   "outputs": [],
   "source": [
    "import warnings\n",
    "\n",
    "warnings.filterwarnings(\"ignore\")  # future warnings are annoying\n",
    "\n",
    "# HRDatabase\n",
    "DB_PATH = \"data/WBI2017_Westerschelde_30-4_v03.sqlite\"\n",
    "hrdatabase = pydra.HRDatabase(DB_PATH)\n",
    "\n",
    "# Maak nieuw uitvoerpunt aan met standaard settings\n",
    "location = hrdatabase.get_location(\"WS_1_30-4_dk_00002\")\n",
    "# TODO: deze error beter afvangen:"
   ]
  },
  {
   "cell_type": "code",
   "execution_count": 4,
   "id": "383eaaec",
   "metadata": {},
   "outputs": [],
   "source": [
    "location.settings"
   ]
  },
  {
   "cell_type": "markdown",
   "id": "6ba08258",
   "metadata": {},
   "source": [
    "Hierboven gebruiken we <i>get_location(\"WS_1_30-4_dk_00002\")</i> om een uitvoerpunt aan te maken. Dit wijkt af van wat in notebook 01 is beschreven. In notebook 01 gebruiken we eerst <i>settings = get_settings(\"WS_1_30-4_dk_00002\")</i> om een settings object te definieren en vervolgens <i>location = create_location(settings)</i> om een locatie aan te maken. Door het gebruik van <i>location = get_location(\"WS_1_30-4_dk_00002\")</i> worden beide functies direct uitgevoerd. Dit geeft geen mogelijkheid om vooraf settings aan te passen.\n",
    "\n",
    "Nu voegen we het eerder gedefinieerde profiel 'profile' toe aan 'location' door middel van de functie <i>set_profile(Profile)</i>."
   ]
  },
  {
   "cell_type": "code",
   "execution_count": 5,
   "id": "347a30f7",
   "metadata": {},
   "outputs": [],
   "source": [
    "# Voeg een profiel toe\n",
    "location.set_profile(profile)\n",
    "\n",
    "# Overschrijf profiel\n",
    "# location.set_profile(another_profile)\n",
    "\n",
    "# Verwijder profiel\n",
    "# location.remove_profile()"
   ]
  },
  {
   "cell_type": "code",
   "execution_count": 6,
   "id": "f30a0495",
   "metadata": {},
   "outputs": [],
   "source": [
    "location.get_profile()"
   ]
  },
  {
   "cell_type": "markdown",
   "id": "7576a556",
   "metadata": {},
   "source": [
    "Je kan een profiel overschrijven door de <i>set_profile(Profile)</i> opnieuw te gebruiken. Je kan een profiel verwijderen door <i>remove_profile()</i> aan te roepen."
   ]
  },
  {
   "cell_type": "markdown",
   "id": "369e55c6",
   "metadata": {},
   "source": [
    "<h3>HBNs berekenen</h3>\n",
    "\n",
    "Om HBNs te berekenen gebruiken we het <i>HBN</i> rekenobject. Het HBN rekenobject heeft vier optionele argumenten:\n",
    "<lu>\n",
    "    <li>q_overtopping (standaard 0.01 m3/m/s): Het kritische overslagdebiet.</li>\n",
    "    <li>levels (standaard None): Vooraf opgegeven hoogten. Indien deze None is berekent pydra de HBNs voor een kruinhoogte vanaf de 1% percentiel van de waterstand tot en met de 99% percentiel van de waterstand + 4x de 99% percentiel van de significante golfhoogte.</li>\n",
    "    <li>step_size (standaard 0.05): De stapgrootte van de stapjes waar pydra de HBN voor doorrekend.</li>\n",
    "    <li>model_uncertainty (standaard True): Wel of niet toepassen van modelonzekerheid.</li>\n",
    "</lu>"
   ]
  },
  {
   "cell_type": "code",
   "execution_count": 7,
   "id": "7d17e062",
   "metadata": {},
   "outputs": [],
   "source": [
    "# Initieer het HBN rekenobject\n",
    "hbn = pydra.HBN(0.01)\n",
    "hbn.set_levels(np.arange(0.0, 15.0, 0.05))"
   ]
  },
  {
   "cell_type": "markdown",
   "id": "7916c0ee",
   "metadata": {},
   "source": [
    "Vervolgens kunnen we met het rekenobject <i>hbn</i> een overschrijdingsfrequentielijn bepalen voor HR uitvoerpunt 'WS_1_30-4_dk_00002' door de <i>calculate()</i> functie aan te roepen van het rekenobject en het <i>location</i> object als argument mee te geven."
   ]
  },
  {
   "cell_type": "code",
   "execution_count": 8,
   "id": "5622f190",
   "metadata": {},
   "outputs": [],
   "source": [
    "hbn_borselle = hbn.calculate(location)"
   ]
  },
  {
   "cell_type": "markdown",
   "id": "25645962",
   "metadata": {},
   "source": [
    "Dit geeft een overschrijdingsfrequentielijn <i>hbn_borselle</i>. Het is een object waarin de berekende gegevens (HBN en overschrijdingsfrequenties) worden opgeslagen. Als je het object print, zie je wat er allemaal in zit."
   ]
  },
  {
   "cell_type": "code",
   "execution_count": 9,
   "id": "ce4bd197",
   "metadata": {},
   "outputs": [],
   "source": [
    "print(hbn_borselle)"
   ]
  },
  {
   "cell_type": "markdown",
   "id": "6846ff27",
   "metadata": {},
   "source": [
    "Hieronder is een plot van de berekende overschrijdingsfrequentielijn gegeven."
   ]
  },
  {
   "cell_type": "code",
   "execution_count": 10,
   "id": "eb55b994",
   "metadata": {},
   "outputs": [],
   "source": [
    "plt.figure(figsize=[8, 5])\n",
    "plt.grid()\n",
    "plt.plot(\n",
    "    1 / np.array(hbn_borselle.exceedance_frequency), hbn_borselle.level, label=\"Pydra\"\n",
    ")\n",
    "plt.legend(loc=\"upper left\")\n",
    "plt.title(\"Overschrijdingsfrequentielijn HBN met q = 10 l/m/s (WS_1_30-4_dk_00002)\")\n",
    "plt.xscale(\"log\")\n",
    "plt.xticks([10, 100, 1_000, 10_000, 100_000])\n",
    "plt.xlabel(\"Terugkeertijd [jaar]\")\n",
    "plt.xlim(10, 100_000)\n",
    "plt.ylabel(\"Kruinhoogte [NAP+m]\")\n",
    "plt.ylim(4, 12)\n",
    "plt.show()"
   ]
  },
  {
   "cell_type": "markdown",
   "id": "8c48a642",
   "metadata": {},
   "source": [
    "En een vergelijking met Hydra-NL."
   ]
  },
  {
   "cell_type": "code",
   "execution_count": 11,
   "id": "a64d55e6",
   "metadata": {},
   "outputs": [],
   "source": [
    "hydranl_tt = np.array(\n",
    "    [10, 30, 100, 300, 1_000, 3_000, 10_000, 30_000, 100_000, 300_000, 1_000_000]\n",
    ")\n",
    "hydranl_hbn = np.array(\n",
    "    [5.582, 6.206, 6.904, 7.558, 8.282, 8.955, 9.71, 10.412, 11.207, 11.969, 12.831]\n",
    ")\n",
    "\n",
    "plt.figure(figsize=[8, 5])\n",
    "plt.grid()\n",
    "plt.plot(\n",
    "    1 / np.array(hbn_borselle.exceedance_frequency), hbn_borselle.level, label=\"Pydra\"\n",
    ")\n",
    "plt.plot(hydranl_tt, hydranl_hbn, \":\", label=\"Hydra-NL\")\n",
    "plt.legend(loc=\"upper left\")\n",
    "plt.title(\"Overschrijdingsfrequentielijn HBN met q = 10 l/m/s (WS_1_30-4_dk_00002)\")\n",
    "plt.xscale(\"log\")\n",
    "plt.xticks([10, 100, 1_000, 10_000, 100_000])\n",
    "plt.xlabel(\"Terugkeertijd [jaar]\")\n",
    "plt.xlim(10, 10_00_000)\n",
    "plt.ylabel(\"Kruinhoogte [NAP+m]\")\n",
    "plt.ylim(4, 13)\n",
    "plt.show()"
   ]
  },
  {
   "cell_type": "markdown",
   "id": "9b777215",
   "metadata": {},
   "source": [
    "<h3>HBNs voor een heel traject</h3>\n",
    "\n",
    "Zoals in notebook '01. Overschrijdingsfrequentielijnen' uitgelegd, is het mogelijk om voor alle uitvoerpunten in een database een batch berekening uit te voeren. Voor het bepalen van HBN's kan dit ook, in dit geval worden dan alle locaties waar nog geen profiel aan verbonden is overgeslagen. Voor meer informatie over batch berekeningen zie notebook '01. Overschrijdingsfrequentielijnen'."
   ]
  },
  {
   "cell_type": "markdown",
   "id": "314547cf",
   "metadata": {},
   "source": [
    "```{python}\n",
    "#| tags: [parameters]\n",
    "\n",
    "run = False\n",
    "```"
   ]
  },
  {
   "cell_type": "code",
   "execution_count": 12,
   "id": "73351b1b",
   "metadata": {},
   "outputs": [],
   "source": [
    "import warnings\n",
    "\n",
    "warnings.filterwarnings(\"ignore\")  # future warnings are annoying\n",
    "# Voor de vorm voegen we ons eerder gedefinieerde profiel ook toe aan WS_1_30-4_dk_00001 en WS_1_30-4_dk_00003\n",
    "tmp_location = hrdatabase.get_location(\"WS_1_30-4_dk_00001\")\n",
    "tmp_location.set_profile(profile)\n",
    "tmp_location = hrdatabase.get_location(\"WS_1_30-4_dk_00003\")\n",
    "tmp_location.set_profile(profile)\n",
    "\n",
    "# Bereken de HBNs voor uitvoerpunten die een profiel hebben\n",
    "alle_hbns = hbn.calculate(hrdatabase)\n",
    "# TODO: deze error beter afvangen:"
   ]
  },
  {
   "cell_type": "markdown",
   "id": "a29a2dbf",
   "metadata": {},
   "source": [
    "Omdat we nu een heel traject doorrekenen, zal <i>calculate()</i> niet één frequentielijn returnen. In plaats daarvan wordt een dictionary gereturnd met als key de naam van het uitvoerpunt en als value het <i>FrequencyLine</i> resultaat object. Als er geen HBN berekent is, is de waarde in de dictionary <i>None</i>."
   ]
  },
  {
   "cell_type": "code",
   "execution_count": 13,
   "id": "2aad8be0",
   "metadata": {},
   "outputs": [],
   "source": [
    "print(alle_hbns)"
   ]
  },
  {
   "cell_type": "markdown",
   "id": "04dd9386",
   "metadata": {},
   "source": [
    "Een overzicht van alle resultaten:"
   ]
  },
  {
   "cell_type": "code",
   "execution_count": 14,
   "id": "e233e5ae",
   "metadata": {},
   "outputs": [],
   "source": [
    "plt.figure(figsize=[8, 5])\n",
    "plt.grid()\n",
    "\n",
    "for _loc in alle_hbns:\n",
    "    if alle_hbns[_loc] is not None:\n",
    "        plt.plot(\n",
    "            1 / alle_hbns[_loc].exceedance_frequency, alle_hbns[_loc].level, label=_loc\n",
    "        )\n",
    "\n",
    "plt.legend(loc=\"upper left\")\n",
    "plt.title(\"Overschrijdingsfrequentielijn HBN met q = 10 l/m/s\")\n",
    "plt.xscale(\"log\")\n",
    "plt.xticks([10, 100, 1_000, 10_000, 100_000])\n",
    "plt.xlabel(\"Terugkeertijd [jaar]\")\n",
    "plt.xlim(10, 10_00_000)\n",
    "plt.ylabel(\"Kruinhoogte [NAP+m]\")\n",
    "plt.ylim(4, 13)\n",
    "plt.show()"
   ]
  },
  {
   "cell_type": "code",
   "execution_count": 15,
   "id": "2215ca95",
   "metadata": {},
   "outputs": [],
   "source": []
  }
 ],
 "metadata": {
  "kernelspec": {
   "display_name": "Python 3 (ipykernel)",
   "language": "python",
   "name": "python3"
  },
  "language_info": {
   "codemirror_mode": {
    "name": "ipython",
    "version": 3
   },
   "file_extension": ".py",
   "mimetype": "text/x-python",
   "name": "python",
   "nbconvert_exporter": "python",
   "pygments_lexer": "ipython3",
   "version": "3.12.7"
  }
 },
 "nbformat": 4,
 "nbformat_minor": 5
}
